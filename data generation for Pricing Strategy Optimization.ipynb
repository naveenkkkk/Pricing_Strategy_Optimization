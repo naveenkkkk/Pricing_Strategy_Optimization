{
 "cells": [
  {
   "cell_type": "code",
   "execution_count": 1,
   "id": "0b06322d",
   "metadata": {},
   "outputs": [],
   "source": [
    "import pandas as pd\n",
    "import numpy as np\n",
    "import random\n",
    "import string"
   ]
  },
  {
   "cell_type": "code",
   "execution_count": 2,
   "id": "2887c2f1",
   "metadata": {
    "scrolled": true
   },
   "outputs": [
    {
     "name": "stdout",
     "output_type": "stream",
     "text": [
      "  Product ID  Product Name       Price  Discounts or Promotions  \\\n",
      "0    SKU0001  chair type 1  438.263327                        0   \n",
      "1    SKU0002  chair type 2  294.474936                       10   \n",
      "2    SKU0003  chair type 3  331.865383                       15   \n",
      "3    SKU0004  table type 1   61.744757                        5   \n",
      "4    SKU0005  table type 2  236.261921                       10   \n",
      "\n",
      "   Quantity Sold       Revenue       Date and Time  \n",
      "0             90  39443.699416 2023-01-01 00:00:00  \n",
      "1             24   6360.658618 2023-01-01 01:00:00  \n",
      "2             16   4513.369205 2023-01-01 02:00:00  \n",
      "3             82   4809.916589 2023-01-01 03:00:00  \n",
      "4             18   3827.443119 2023-01-01 04:00:00  \n"
     ]
    }
   ],
   "source": [
    "# List of product names based on the provided pattern\n",
    "product_names = ['chair type 1', 'chair type 2', 'chair type 3', 'table type 1', 'table type 2', 'table type 3',\n",
    "                 'table type 4', 'phone type 1', 'phone type 2', 'phone type 3', 'phone type 4', 'book type 1',\n",
    "                 'book type 2', 'book type 3', 'shirt type 1', 'shirt type 2', 'shirt type 3', 'shoes type 1',\n",
    "                 'shoes type 2', 'shoes type 3', 'camera type 1', 'camera type 2', 'camera type 3', 'headphones type 1',\n",
    "                 'headphones type 2', 'headphones type 3', 'pen type 1', 'pen type 2', 'pen type 3', 'watch type 1',\n",
    "                 'watch type 2', 'watch type 3']\n",
    "\n",
    "# Generating Product Information\n",
    "num_products = len(product_names)\n",
    "\n",
    "product_ids = [f\"SKU{str(i).zfill(4)}\" for i in range(1, num_products + 1)]\n",
    "\n",
    "products_df = pd.DataFrame({\n",
    "    'Product ID': product_ids,\n",
    "    'Product Name': product_names\n",
    "})\n",
    "\n",
    "# Generating Pricing and Sales Data\n",
    "products_df['Price'] = np.random.uniform(10, 500, num_products)\n",
    "products_df['Discounts or Promotions'] = np.random.choice([0, 5, 10, 15], num_products)\n",
    "products_df['Quantity Sold'] = np.random.randint(1, 100, num_products)\n",
    "products_df['Revenue'] = products_df['Price'] * (1 - products_df['Discounts or Promotions'] / 100) * products_df['Quantity Sold']\n",
    "products_df['Date and Time'] = pd.date_range('2023-01-01', periods=num_products, freq='H')"
   ]
  },
  {
   "cell_type": "code",
   "execution_count": 3,
   "id": "ae367e6f",
   "metadata": {},
   "outputs": [],
   "source": [
    "# Generating Customer Information\n",
    "num_customers = 500\n",
    "\n",
    "customer_ids = [f\"CID{str(i).zfill(4)}\" for i in range(1, num_customers + 1)]\n",
    "customer_segments = random.choices(['Segment A', 'Segment B', 'Segment C'], k=num_customers)\n",
    "customer_behavior = pd.DataFrame({\n",
    "    'Customer ID': customer_ids,\n",
    "    'Customer Segmentation Data': customer_segments,\n",
    "    'Customer Behavior': np.random.randint(1, 10, num_customers),  # Example: Purchase frequency\n",
    "})"
   ]
  },
  {
   "cell_type": "code",
   "execution_count": 4,
   "id": "47a84287",
   "metadata": {},
   "outputs": [],
   "source": [
    "# Simulating Transactions (Purchases)\n",
    "num_transactions = 3000  # Adjust as needed\n",
    "\n",
    "transaction_data = {\n",
    "    'Customer ID': random.choices(customer_ids, k=num_transactions),\n",
    "    'Product ID': random.choices(product_ids, k=num_transactions),\n",
    "    'Quantity': np.random.randint(1, 5, num_transactions),\n",
    "    'Transaction Date': pd.date_range('2023-01-01', periods=num_transactions, freq='H')\n",
    "}\n",
    "transactions_df = pd.DataFrame(transaction_data)\n",
    "\n",
    "transactions_df.to_csv('transactions.csv', index=False)"
   ]
  },
  {
   "cell_type": "code",
   "execution_count": 5,
   "id": "2ffcdf79",
   "metadata": {},
   "outputs": [],
   "source": [
    "# Saving dataframes to CSV files\n",
    "products_df.to_csv('product_information.csv', index=False)\n",
    "customer_behavior.to_csv('customer_information.csv', index=False)"
   ]
  },
  {
   "cell_type": "code",
   "execution_count": 8,
   "id": "c56ebfd4",
   "metadata": {},
   "outputs": [],
   "source": [
    "#\n",
    "#competitor_product_names\n",
    "#\n",
    "#\n",
    "# Generating Competitor Product Information\n",
    "num_competitor_products = len(product_names)\n",
    "\n",
    "competitor_product_ids = [f\"CP{str(i).zfill(4)}\" for i in range(1, num_competitor_products + 1)]\n",
    "\n",
    "competitor_products_df = pd.DataFrame({\n",
    "    'Product ID': competitor_product_ids,\n",
    "    'Product Name': product_names\n",
    "})\n",
    "\n",
    "# Generating Competitor Pricing and Sales Data\n",
    "competitor_products_df['Price'] = np.random.uniform(10, 500, num_competitor_products)\n",
    "competitor_products_df['Discounts or Promotions'] = np.random.choice([0, 5, 10, 15], num_competitor_products)\n",
    "competitor_products_df['Quantity Sold'] = np.random.randint(1, 100, num_competitor_products)\n",
    "competitor_products_df['Revenue'] = (competitor_products_df['Price'] *\n",
    "                                     (1 - competitor_products_df['Discounts or Promotions'] / 100) *\n",
    "                                     competitor_products_df['Quantity Sold'])\n",
    "competitor_products_df['Date and Time'] = pd.date_range('2023-01-01', periods=num_competitor_products, freq='H')\n",
    "\n",
    "# Saving competitor dataframe to a CSV file\n",
    "competitor_products_df.to_csv('competitor_product_information.csv', index=False)"
   ]
  },
  {
   "cell_type": "code",
   "execution_count": null,
   "id": "afff301c",
   "metadata": {},
   "outputs": [],
   "source": []
  }
 ],
 "metadata": {
  "kernelspec": {
   "display_name": "Python 3 (ipykernel)",
   "language": "python",
   "name": "python3"
  },
  "language_info": {
   "codemirror_mode": {
    "name": "ipython",
    "version": 3
   },
   "file_extension": ".py",
   "mimetype": "text/x-python",
   "name": "python",
   "nbconvert_exporter": "python",
   "pygments_lexer": "ipython3",
   "version": "3.11.5"
  }
 },
 "nbformat": 4,
 "nbformat_minor": 5
}
